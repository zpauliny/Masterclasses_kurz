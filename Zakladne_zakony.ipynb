{
 "cells": [
  {
   "cell_type": "markdown",
   "id": "ba5c0c79-b006-4795-beb3-440624c4f453",
   "metadata": {},
   "source": [
    "<span style=\"font-family:Times New Roman; font-size:1.2em;\">\n",
    "\n",
    "# Základné poznatky pre časticovú fyziku\n",
    "\n",
    "Tento prvý modul je stručným zopakovaním poznatkov, ktoré ste už v škole preberali, ale často sa k nim budeme chcieť vrátiť v ďalších moduloch. Hlavné oblasti sú zákony zachovania (zákon zachovania energie a zákon zachovania hybnosti) a pohyb častice v elektrickom a magnetickom poli. Poďme si ich postupne pripomenúť. \n",
    "\n",
    "</span>"
   ]
  },
  {
   "cell_type": "markdown",
   "id": "7270b953-11df-42f9-9e6a-6fddc728ecf4",
   "metadata": {},
   "source": [
    "<span style=\"font-family:Times New Roman; font-size:1.2em;\">\n",
    "\n",
    "## Zákon zachovania energie\n",
    "\n",
    "Všade vo vesmíre a teda aj pre elementárne častice platí zákon zachovania energie. Vy si ho môžete pamätať z mechaniky, napríklad pre matematické kyvadlo:\n",
    "\n",
    "</span>"
   ]
  },
  {
   "cell_type": "markdown",
   "id": "7637e970-b613-425c-b7c7-47ea71a290d9",
   "metadata": {},
   "source": [
    "<figure>\n",
    "<img src=\"https://i.postimg.cc/bwsKKkDB/conservartion-of-mechanical-energy-pendulum.png\" width=35% style=\"display: block; margin: 0 auto\">\n",
    "</figure>"
   ]
  },
  {
   "cell_type": "markdown",
   "id": "a67e17f4-5c68-4df4-946b-fa70c83f174e",
   "metadata": {},
   "source": [
    "<span style=\"font-family:Times New Roman; font-size:1.2em;\">\n",
    "\n",
    "Pri pohybe kyvadla platí, že sa tu energia rozdeľuje do dvoch foriem: kinetickej energie $E_k$, danej rýchlosťou častice, a potenciálnej energie, danej gravitačnou silou, ktorá kyvadlo ťahá dole z vychýlenej polohy. Pripomeňme si, že kinetická energia je určená hmotnosťou častice a jej rýchlosťou: \n",
    "\n",
    "$$E_k ~=~ \\frac{1}{2} m v^2.$$\n",
    "\n",
    "Toto je však len jeden z príkladov, kde je platný zákon zachovania energie. Tento zákon je úplne všeobecný a zahŕňa aj iné formy energie, v časticovom svete je to napríklad pokojová energia $E_0$, ktorá je daná hmotnosťou častice. Určite ste už niekde videli známy Einsteinov vzťah pre pokojovú energiu:\n",
    "\n",
    "$$E_0 ~=~ m c^2,$$\n",
    "\n",
    "kde $c$ je rýchlosť svetla. $E_0$ nám vlastne ukazuje, koľko energie potrebujeme použiť na výrobu častice s hmotnosťou $m$. A keďže hlavnou metódou skúmania sveta časticovej fyziky sú zrážky častíc, zákon zachovania energie nás tu bude viesť v tom, ako sa môže kinetická energia premeniť na pokojovú energiu. Takže veľmi rýchle častice môžu vytvoriť oveľa ťažšie častice, než sú ony samy. Napríklad v zrážke rýchleho elektrónu (ľahká častica - nájdeme ju aj v atómovom obale) a pozitrónu (jej antičastica - o nich sa viac dozviete v ďalšom module) má táto dvojica častíc veľkú kinetickú energiu. Zo zrážky potom odletí väčšie množstvo častíc, ktorých pokojová energia je väčšia a kinetická nižšia. Celková energia $E ~=~ E_k + E_0$ sa však zachová:\n",
    "\n",
    "$$E_{pred-zrážkou} = E_{po-zrážke}$$\n",
    "\n",
    "</span>"
   ]
  },
  {
   "cell_type": "markdown",
   "id": "baf12eee-6065-45a4-940f-6b877055254d",
   "metadata": {},
   "source": [
    "<figure>\n",
    "<img src=\"https://i.postimg.cc/CKKXjDYN/e-e.gif\" width=30% style=\"display: block; margin: 0 auto\">\n",
    "</figure>"
   ]
  },
  {
   "cell_type": "markdown",
   "id": "a2ac273a-dd86-418d-b1a0-f2c7b408a03b",
   "metadata": {},
   "source": [
    "<span style=\"font-family:Times New Roman; font-size:1.2em;\">\n",
    "\n",
    "## Zákon zachovania hybnosti\n",
    "\n",
    "Aj zákon zachovania hybnosti je platný vždy a všade. Pripomeňme si, že hybnosť $\\vec{p}$ je takto daná rýchlosťou a hmotnosťou:\n",
    "\n",
    "$$\\vec{p} ~=~ m \\vec{v}.$$\n",
    "\n",
    "Hybnosť je vektorová veličina a jej smer je daný smerom rýchlosti. Tento zákon zachovania je znovu veľmi užitočný v zrážkach častíc, pretože nám umožní skúmať, nielen aká kinetická energia sa časticiam prerozdelila, ale aj to, do akého smeru odleteli. Zrážky elementárnych častíc si môžeme veľmi dobre predstaviť, ako biliard. Ak buchneme jednou guľou do druhej (a zabudnime teraz na trenie), hybnosť prvej gule sa potom prerozdelí medzi hybnosti oboch gúľ, ktoré sa po zrážke pohybujú. Vyzerá to nejako takto:\n",
    "\n",
    "</span>"
   ]
  },
  {
   "cell_type": "markdown",
   "id": "a626c7b6-8731-40f6-9523-30b8c5ba3071",
   "metadata": {},
   "source": [
    "<figure>\n",
    "<img src=\"https://i.postimg.cc/nrsnTgJ3/conservation-momentum.webp\" width=50% style=\"display: block; margin: 0 auto\">\n",
    "</figure>"
   ]
  },
  {
   "cell_type": "markdown",
   "id": "2b61ccb5-8907-4e5f-b143-00bdc89b1343",
   "metadata": {},
   "source": [
    "<span style=\"font-family:Times New Roman; font-size:1.2em;\">\n",
    "\n",
    "Častice si takisto v zrážkach prerozdeľujú hybnosť a pri hľadaní vlastností častíc, ktoré vznikli v zrážke si často pomáhame tým, že porovnávame hybnosť pred a po zrážke. Platí to isté, čo pre celkovú energiu. Zjednodušené je to tým, že hybnosť nemá viac foriem (žiadna pokojová hybnosť), zložitejšie zas tým, že hybnosť zahŕňa smer a tento vzťah je teda vektorový:\n",
    "\n",
    "$$\\vec{p}_{pred-zrážkou} ~=~ \\vec{p}_{po-zrážke}$$\n",
    "\n",
    "</span>"
   ]
  },
  {
   "cell_type": "markdown",
   "id": "7aaba9d3-3a76-444a-a967-da85e552070a",
   "metadata": {},
   "source": [
    "<span style=\"font-family:Times New Roman; font-size:1.2em;\">\n",
    "\n",
    "## Pohyb nabitej častice v elektromagnetickom poli\n",
    "\n",
    "Na elektricky nabité častice v elektrickom a magnetickom poli pôsobí Lorentzova sila:\n",
    "\n",
    "$$\\vec{F} ~=~ q \\cdot \\vec{E} ~+~ q \\cdot \\vec{v} \\times \\vec{B}$$\n",
    "\n",
    "Postupne sa teraz pozrieme na dve zložky tejto sily: elektrickú (prvý člen) a magnetickú (druhý člen) a podrobnejšie si vysvetlíme ich pôsobenie na nabitú časticu.\n",
    "\n",
    "### Elektrické pole\n",
    "\n",
    "Lorentzova sila tu závisí od náboja častice $q$ a intenzity elektrického poľa $\\vec{E}$. Všimnime si, že je to vektorová rovnica a smer sily bude presne daný smerom intenzity elektrického poľa $\\vec{E}$. Zároveň sila závisí od náboja častice $q$, ktorý môže byť kladný (napr. protón) alebo záporný (napr. elektrón). Orientácia sily teda môže byť aj opačná ako $\\vec{E}$ - obráti nám ju záporný náboj. Na nabitú časticu má elektrické pole urýchľujúci účinok v smere siločiar elektrického poľa - len orientácia je rôzna podľa náboja častice: \n",
    "\n",
    "</span>"
   ]
  },
  {
   "attachments": {},
   "cell_type": "markdown",
   "id": "402685fe-6803-44a0-92c8-d2cdc6ed8d0a",
   "metadata": {},
   "source": [
    "<div style=\"text-align: center;\">\n",
    "    <img src=\"https://i.postimg.cc/8CbqSdnV/electric-field.webp\" style=\"width: 40%; margin-right: 5%;\">\n",
    "    <img src=\"https://i.postimg.cc/FR8V2X08/e-uniform.png\" style=\"width: 20%;\">\n",
    "</div>"
   ]
  },
  {
   "cell_type": "markdown",
   "id": "73befd08-6e96-45bc-8e5c-1c11361de3f1",
   "metadata": {},
   "source": [
    "<span style=\"font-family:Times New Roman; font-size:1.2em;\">\n",
    "\n",
    "Elektrické pole je teda veľmi vhodné pre urýchlenie častice. Ukazuje to obrázok napravo, kde poľom pôsobíme v smere rýchlosti častice a teda jej smer nebude pôsobením Lorentzovej sily zmenený, bude len urýchlená. Všetky časticové urýchľovače používajú tento princíp.\n",
    "\n",
    "### Magnetické pole\n",
    "\n",
    "Magnetická zložka Lorentzovej sily vyzerá na prvý pohľad oveľa zložitejšie. Veličiny, ktoré vzťah obsahuje sú nám však známe: náboj častice $q$, jej rýchlosť $\\vec{v}$ a indukcia magnetického poľa $\\vec{B}$. Medzi dvomi vektorovými veličinami rýchlosťou $\\vec{v}$ a indukciou magnetického poľa $\\vec{B}$ je krížik $\\times$, ktorý nám označuje špeciálnu operáciu - vektorový súčin. Nemusíme dopodrobna rozumieť tomu, čo tento špeciálny súčin je, pre nás sú dôležité dve veci: výsledkom je tiež vektor (magnetická zložka Lorentzovej sily) a ak sú rýchlosť a magnetické pole na seba kolmé, sila bude v treťom smere - kolmom na $\\vec{v}$ aj $\\vec{B}$. V takom prípade bude magentické pole časticu nútiť nasledovať kruhovú dráhu. Takže ak $\\vec{B}$ ukazuje smerom do obrazovky a častica má rýchlosť ako na obrázku, bude obiehať po kružnici *proti smeru hodinových ručičiek* ak je kladná a *v smere hodinových ručičiek* ak je záporná:\n",
    "\n",
    "</span>"
   ]
  },
  {
   "cell_type": "markdown",
   "id": "df243586-acc1-41c4-aa02-f649ed666c90",
   "metadata": {},
   "source": [
    "<div style=\"text-align: center;\">\n",
    "    <img src=\"https://i.postimg.cc/wBcMwHCM/b-uniform.png\" style=\"width: 50%;\">\n",
    "</div>"
   ]
  },
  {
   "cell_type": "markdown",
   "id": "ee840951-578e-4c62-8d22-82d05080ffe3",
   "metadata": {},
   "source": [
    "<span style=\"font-family:Times New Roman; font-size:1.2em;\">\n",
    "\n",
    "V časticovom svete budeme teda magnetické pole využívať na zmenu smeru častice. A to pri urýchlení (vďaka tomu môžeme budovať kruhové urýchľovače) alebo pri meraní hybnosti častice, ktorú vieme ľahko určiť z polomeru kruhovej dráhy.\n",
    "\n",
    "</span>"
   ]
  }
 ],
 "metadata": {
  "kernelspec": {
   "display_name": "Python 3 (ipykernel)",
   "language": "python",
   "name": "python3"
  },
  "language_info": {
   "codemirror_mode": {
    "name": "ipython",
    "version": 3
   },
   "file_extension": ".py",
   "mimetype": "text/x-python",
   "name": "python",
   "nbconvert_exporter": "python",
   "pygments_lexer": "ipython3",
   "version": "3.13.1"
  }
 },
 "nbformat": 4,
 "nbformat_minor": 5
}
