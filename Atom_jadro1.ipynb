{
 "cells": [
  {
   "cell_type": "markdown",
   "id": "a59a4a11-28f5-441d-8392-cc276ad8865e",
   "metadata": {},
   "source": [
    "<span style=\"font-family:Papyrus; font-size:1.2em;\">\n",
    "\n",
    "# Atóm\n",
    "\n",
    "Všetka hmota okolo nás je usporiadaná do atómov a molekúl. Práve atóm je tá najmenšia jednotka, ktorá určuje základné vlastnosti látok. Poďme sa pozrieť na jeho štruktúru.\n",
    "\n",
    "Prvou objavenou zložkou atómu boli **elektróny** (malé, záporne nabité častice), ktoré tvoria atómový obal. Boli objavené v 19.storočí v experimentoch J.J.Thompsona s katódovými lúčmi. J.J. Thompson preukázal, že lúče, ktoré vznikajú pri vysokom napätí medzi dvoma kovovými platňami (katódou a anódou) v trubici s čiastočným vákuom, sú v skutočnosti tvorené časticami. Zistil, že tieto častice sú záporne nabité a majú veľmi malú hmotnosť. \n",
    "\n",
    "Keďže už bol známy fakt, že atómy sú elektricky neutrálne, pátralo sa ďalej po kladne nabitých časticiach, ktoré by doplnili elektróny. To, že kladne nabitá hmota je sústredená v malom priestore v strede zistil začiatkom 20.storočia E.Rutherford. Vďaka tomu bola objasnená základná štruktúra atómu: malé **atómové jadro**, ktoré je nabité kladne a okolo neho sa pohybujú záporné elektróny v elektrónovom obale. \n",
    "\n",
    "Napokon bolo objasnené aj to, že jadro sa skladá z kladne nabitých **protónov** a neutrálnych **neutrónov**, spolu tieto častice označujeme slovom **nukleóny**. \n",
    "\n",
    "</span>"
   ]
  },
  {
   "cell_type": "markdown",
   "id": "bab6ee28-70be-4c25-946f-c0fdad227f92",
   "metadata": {},
   "source": [
    "<figure>\n",
    "<img src=\"https://i.postimg.cc/vBJcn7XK/stavba-atomu.jpg\" width=800 style=\"display: block; margin: 0 auto\">\n",
    "</figure>"
   ]
  },
  {
   "cell_type": "markdown",
   "id": "655e6ac7-48b7-4c55-aa90-ce8d05e4fc11",
   "metadata": {},
   "source": [
    "<span style=\"font-family:Papyrus; font-size:1.2em;\">\n",
    "    \n",
    "Poďme si uviesť, čo všetko vieme o základných časticiach. Na porovnanie vlastností týchto častíc sa nám zídu špeciálne jednotky energie a hmotnosti, ktoré používame v jadrovej fyzike:\n",
    "\n",
    "</span>"
   ]
  },
  {
   "cell_type": "markdown",
   "id": "4572e3e0-b7d2-4f3a-a5a3-bb60026ac93d",
   "metadata": {},
   "source": [
    "<span style=\"font-family:Papyrus; font-size:1.2em\">\n",
    "<div style=\"background-color:PaleTurquoise\">\n",
    "\n",
    "Energia sa vyjadruje v jednotkách MeV:\n",
    "\n",
    "$1 ~MeV = 1.602 \\cdot 10^{-16} ~J$\n",
    "\n",
    "Elektrón, ktorý má kinetickú energiu 1 MeV, cestuje rýchlosťou približne 280 miliónov m/s (to sa približuje rýchlosti svetla, ktorá je 300 miliónov m/s, inak vyjadrené: $c = 3 \\cdot 10^{8} ~m/s$).\n",
    "\n",
    "V jednotkách MeV vieme vyjadriť aj pokojovú energiu častíc, teda tú časť ich energie, ktorá súvisí s ich hmotnosťou. Určite poznáte známy vzorec:\n",
    "\n",
    "$E = m \\cdot c^2$ \n",
    "\n",
    "Tak ten vyjadruje práve pokojovú energiu častíc. Preto je dobrou jednotkou hmotnosti v časticovom svete MeV/c$^2$:\n",
    "\n",
    "$1 ~MeV/c^2 = 1.78 \\cdot 10^{-33} ~kg$\n",
    "\n",
    "Elektrón váži 0.5 MeV/c$^2$, protón zas 938 MeV/c$^2$. Je to jednotka vhodná pre jednotlivé častice, už malé množstvá látky sa lepšie určujú v gramoch.\n",
    "\n",
    "Náboj sa zykne uvádzať v jednotkách elementárneho náboja, t.j. náboj jedného protónu, resp. elektrónu:\n",
    "\n",
    "$1 ~e = 1.602 \\cdot 10^{-19} C$\n",
    "\n",
    "1 mol protónov má tak spolu náboj takmer 1 milión C.\n",
    "</div>\n",
    "</span>"
   ]
  },
  {
   "cell_type": "markdown",
   "id": "3172c24a-77cf-48e6-b570-41b3e5455778",
   "metadata": {},
   "source": [
    "<span style=\"font-family:Papyrus; font-size:1.2em;\">\n",
    "Pozrime sa teda na častice, ktoré tvoria atómy:\n",
    "<table style=\"border: 2px solid black; border-collapse: collapse; text-align: center; font-family:Papyrus; font-size:1.0em;\">\n",
    "  <thead>\n",
    "    <tr style=\"background-color: PaleTurquoise; color: black;\">\n",
    "      <th style=\"border: 1px solid black; padding: 10px; text-align: center;\">Častica</th>\n",
    "      <th style=\"border: 1px solid black; padding: 10px; text-align: center;\">Symbol</th>\n",
    "      <th style=\"border: 1px solid black; padding: 10px; text-align: center;\">Elektrický náboj [e]</th>\n",
    "      <th style=\"border: 1px solid black; padding: 10px; text-align: center;\">Hmotnosť [MeV / c<sup>2</sup>]</th>\n",
    "    </tr>\n",
    "  </thead>\n",
    "  <tbody>\n",
    "    <tr>\n",
    "      <td style=\"border: 1px solid black; padding: 10px; text-align: center;\">elektrón</td>\n",
    "      <td style=\"border: 1px solid black; padding: 10px; text-align: center;\">e<sup>-</sup></td>\n",
    "      <td style=\"border: 1px solid black; padding: 10px; text-align: center;\">-1</td>\n",
    "      <td style=\"border: 1px solid black; padding: 10px; text-align: center;\">0.511</td>\n",
    "    </tr>\n",
    "  </tbody>\n",
    "    <tbody>\n",
    "    <tr>\n",
    "      <td style=\"border: 1px solid black; padding: 10px; text-align: center;\">protón</td>\n",
    "      <td style=\"border: 1px solid black; padding: 10px; text-align: center;\">p</td>\n",
    "      <td style=\"border: 1px solid black; padding: 10px; text-align: center;\">+1</td>\n",
    "      <td style=\"border: 1px solid black; padding: 10px; text-align: center;\">938</td>\n",
    "    </tr>\n",
    "  </tbody>\n",
    "    <tbody>\n",
    "    <tr>\n",
    "      <td style=\"border: 1px solid black; padding: 10px; text-align: center;\">neutrón</td>\n",
    "      <td style=\"border: 1px solid black; padding: 10px; text-align: center;\">n</td>\n",
    "      <td style=\"border: 1px solid black; padding: 10px; text-align: center;\">0</td>\n",
    "      <td style=\"border: 1px solid black; padding: 10px; text-align: center;\">939</td>\n",
    "    </tr>\n",
    "  </tbody>\n",
    "</table>\n",
    "</span>"
   ]
  },
  {
   "cell_type": "markdown",
   "id": "692c7bbb-e366-4406-994d-439783091c11",
   "metadata": {},
   "source": [
    "<span style=\"font-family:Papyrus; font-size:1.2em;\">\n",
    "\n",
    "Kombinovaním týchto troch častíc môžeme vytvoriť celú peridoickú tabuľku prvkov. Počet protónov, inak **protónové číslo** nám vždy určí o aký prvok ide, napríklad vodík H má vždy jeden protón, hoci môže mať v jadre aj rôzne počty neutrónov (v prípade vodíka 0,1 alebo 2 neutróny). Celkový počet nukleónov, teda častíc v jadre, určuje **nukleónové číslo**. Počet elektrónov je v **neutrálnom atóme** rovnaký ako počet protónov, aby bol celkový náboj atómu 0. Pridávaním a odoberaním elektrónov vytvárame záporne a kladne nabité **ióny**. Vyskúšajte si postaviť rôzne atómy z periodickej tabuľky tu:\n",
    "\n",
    "</span>\n",
    "\n",
    "<iframe src=\"https://phet.colorado.edu/sims/html/build-an-atom/latest/build-an-atom_sk.html\"\n",
    "        width=\"800\"\n",
    "        height=\"600\"\n",
    "        allowfullscreen>\n",
    "</iframe>"
   ]
  }
 ],
 "metadata": {
  "kernelspec": {
   "display_name": "Python 3 (ipykernel)",
   "language": "python",
   "name": "python3"
  },
  "language_info": {
   "codemirror_mode": {
    "name": "ipython",
    "version": 3
   },
   "file_extension": ".py",
   "mimetype": "text/x-python",
   "name": "python",
   "nbconvert_exporter": "python",
   "pygments_lexer": "ipython3",
   "version": "3.13.1"
  }
 },
 "nbformat": 4,
 "nbformat_minor": 5
}
