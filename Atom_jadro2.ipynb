{
 "cells": [
  {
   "cell_type": "markdown",
   "id": "b8abed1b-7491-4baa-a0fa-927aaca0e776",
   "metadata": {},
   "source": [
    "<span style=\"font-family:Papyrus; font-size:1.2em;\">\n",
    "\n",
    "# Atómové jadro\n",
    "\n",
    "Poďme sa detailnejšie pozrieť dnu do atómu, predovšetkým na atómové jadro. Už sme spomenuli, že **protónové číslo Z**, čiže počet protónov v jadre určuje typ prvku. Počet neutrónov sa však aj v jednom prvku môže líšiť - ide potom o rôzne **izotopy** toho istého prvku, ktoré majú rôzne **nukleónové číslo A** (pripomeňme si, že to je súčet protónov a neutrónov). Na obrázku nižšie sú zobrazené tri izotopy vodíka s nukleónovým číslom $A = 1,2 ~a ~3$, ktoré sa vyskytujú v prírode.\n",
    "\n",
    "</span>"
   ]
  },
  {
   "cell_type": "markdown",
   "id": "ccfafcd4-16ef-4846-ad9f-0b44bf025cce",
   "metadata": {},
   "source": [
    "<figure>\n",
    "<img src=\"https://i.postimg.cc/N0mt8dmR/vodik-izotopy.jpg\" width=\"700\">\n",
    "</figure>"
   ]
  },
  {
   "cell_type": "markdown",
   "id": "cb1eda77-9f9c-4d8b-a7d7-9a56376d705d",
   "metadata": {},
   "source": [
    "<span style=\"font-family:Papyrus; font-size:1.2em;\">\n",
    "\n",
    "Nie všetky izotopy sú stabilné, môžu sa rozpadať. Prvé dva vodíkové izotopy - ľahký vodík ($A=1$) a deutérium ($A=2$) sú stabilné, zatiaľčo tricium ($A=3$) sa rozpadá $\\beta$ rozpadom s dobou polpremeny približne 12 rokov. To znamená, že polovica jadier trícia zo vzorky sa do 12 rokov rozpadne na jadro hélia-3. Ide o takúto reakciu:\n",
    "\n",
    "$^3_1H ~\\rightarrow~ ^3_2He + e^- + \\overline{\\mu}$\n",
    "\n",
    "Všimnite si, že **nukleónové číslo** sa tu zachováva, v celej reakcii je $A=3$. Čo sa mení, je protónové číslo **Z** ako aj počet neutrónov **N**. Jadro vodíka s jedným protónom a dvomi neutrónmi sa premení na jadro hélia, ktoré obsahuje dva protóny a jeden neutrón. Pritom sa z jadra vyletia dve častice: elektrón a antineutríno (o tejto častici si viac povieme neskôr v kurze). $\\beta$-rozpad je jedným z typov **rádioaktívnej premeny**, ďalšie typy sú $\\alpha$ a $\\gamma$ premeny. \n",
    "\n",
    "</span>"
   ]
  },
  {
   "cell_type": "markdown",
   "id": "ed2341ab-2c02-475a-90bf-7fb7c123ac12",
   "metadata": {},
   "source": [
    "<span style=\"font-family:Papyrus; font-size:1.2em;\">\n",
    "\n",
    "## Rádioaktivita\n",
    "\n",
    "$\\mathsf{\\mathbf{\\alpha}}$**-rozpad** je reakciou, v ktorej sa pôvodné materské jadro rozpadá na $\\alpha$ časticu - takto označujeme jadro hélia-4 $~^4_2He$ a druhé menšie dcérske jadro, ktorého počet protónov aj neutrónov sa zníži zhodne o dva. Príkladom je rozpad jadra uránu, ktoré sa rozpadá na tórium vyžiarením alfa častice:\n",
    "\n",
    "$^{238}_{92}U ~\\rightarrow~ ^{234}_{90}Th ~+~ ^4_2He$\n",
    "\n",
    "Okrem zachovania počtu nukleónov tu jasne vidíme aj druhý zákon zachovania, ktorý v reakciách vždy platí: zákon zachovanie elektrického náboja. Protónové číslo _Z_ sa v dcérskom jadre zníži o dva, pretože práve toľko kladného náboja odnáša jadro hélia.\n",
    "</span>"
   ]
  },
  {
   "cell_type": "markdown",
   "id": "81526e31-4d4e-4960-b3f8-cd01f3606992",
   "metadata": {},
   "source": [
    "<figure>\n",
    "<img src=\"https://i.postimg.cc/RhQkFTN9/Alpha-Decay.png\" width=\"700\">\n",
    "</figure>"
   ]
  },
  {
   "cell_type": "markdown",
   "id": "2ef66315-00af-423d-bb20-06669710bd2b",
   "metadata": {},
   "source": [
    "<span style=\"font-family:Papyrus; font-size:1.2em;\">\n",
    "\n",
    "$\\mathsf{\\mathbf{\\beta}}$**-rozpad** vždy zahŕňa premenu jedného typu nukleónu na druhý. Už sme si ukázali prvý typ, kde sa neutrón premení na protón. Aby bol v reakcii zachovaný elektrický náboj, vzniká tam záporný elektrón. Treťou časticou v rozpade je potom elektricky neutrálne **antineutríno**. Táto premena sa pre záporný náboj elektrónu označuje $\\beta^-$ a ďalším príkladom je premena izotopu uhlíka $^{14}_6C$ na dusík (táto reakcia je dôležitá pre uhlíkové datovanie - určovanie veku starých materiálov, napr. fosílií):\n",
    "\n",
    "$^{14}_6C ~\\rightarrow~ ^{14}_7N ~+~ e^- ~+~ \\overline{\\mu}$\n",
    "\n",
    "Poznáme však aj druhý typ $\\beta$ premeny, kde sa protón premení na neutrón. Teraz sa elektrický náboj vyrovná vyžiarením kladnej častice **pozitrónu** $\\mathsf{\\mathbf{e^-}}$, čo je antičastica elektrónu (viac o tom v ďalšom module kurzu). Pozitrón má rovnaké vlastnosti ako elektrón, len je kladne nabitý a okrem neho sa vyžiari aj elektricky neutrálne **neutríno** $\\mu$. $\\beta^+$ premenu môžeme pozorovať v rozpade ďalšieho izotopu uhlíka $^{10}_6C$ na bór:\n",
    "\n",
    "$^{10}_6C ~\\rightarrow~ ^{10}_5B ~+~ e^+ ~+~ \\mu$\n",
    "\n",
    "</span>"
   ]
  },
  {
   "cell_type": "markdown",
   "id": "65254f61-4d49-4cce-9303-42476ec07ce7",
   "metadata": {},
   "source": [
    "<figure>\n",
    "<img src=\"https://i.postimg.cc/T1H5SBXH/Radioactivity-Beta-Decay.png\" width=\"700\">\n",
    "</figure>"
   ]
  },
  {
   "cell_type": "markdown",
   "id": "0ed75758-85c2-41d7-9772-935ff3a80ba3",
   "metadata": {},
   "source": [
    "<span style=\"font-family:Papyrus; font-size:1.2em;\">\n",
    "\n",
    "$\\mathsf{\\mathbf{\\gamma}}$**-rozpad** je posledným typom rádioaktívneho rozpadu. Je to premena, ktorá často sprevádza $\\alpha$ alebo $\\beta$ premenu, ktorej výsledkom je jadrom v excitovanom stave. Nukleóny v jadre sa totiž môžu nachádzať v rôznych energetických stavoch, podobne ako elektróny v atómovom obale - aj tie môžu preskočiť z vrstvy na vrstvu. Ak protón alebo neutrón preskočia na vrstvu s nižšou energiu, vyžiaria pritom neutrálnu časticu **fotón** (aj o nich budeme viac hovoriť v ďalšom module). Fotóny gama žiarenia majú vysokú energiu a sú veľmi prenikavé, pre človeka nebezpečné. Je to práve toto rádioaktívne žiarenie, pred ktorým sa musíme dobre chrániť. Príkladom $\\gamma$ premeny je premena excitovaného niklu, ktorý vzniká v $\\beta$ premene kobaltu:\n",
    "\n",
    "$^{60}_{27}Co ~\\rightarrow~ ^{60}_{28}Ni^* ~+~ e^- ~+~ \\overline{\\mu}$\n",
    "\n",
    "$^{60}_{28}Ni^* ~\\rightarrow~ ^{60}_{28}Ni ~+~ \\gamma$\n",
    "\n",
    "\n",
    "</span>"
   ]
  },
  {
   "cell_type": "markdown",
   "id": "808b0a17-61b0-4a7b-9cc9-80fb1b8a190f",
   "metadata": {},
   "source": [
    "<figure>\n",
    "<img src=\"https://i.postimg.cc/cHxmNqVs/Cobalt-60-Nickel-60.png\" width=\"700\">\n",
    "</figure>"
   ]
  },
  {
   "cell_type": "markdown",
   "id": "fee914ba-09f1-4854-87a9-12aa9f9a7ec2",
   "metadata": {},
   "source": [
    "<span style=\"font-family:Papyrus; font-size:1.2em;\">\n",
    "\n",
    "Poskladajte si aj Vy atómové jadrá. Dopĺňaním protónov a neutrónov nájdete viaceré izotopy rôznych prvkov, zistíte ktoré sú stabilné a ktoré naopak nie. Pri nestabilných jadrách môžete odhaliť, ako dlho žijú aj ako sa rozpadajú a ktoré dcérske jadrá z nich vzniknú: \n",
    "\n",
    "</span>\n",
    "\n",
    "<iframe src=\"https://phet.colorado.edu/sims/html/build-a-nucleus/latest/build-a-nucleus_sk.html\"\n",
    "        width=\"800\"\n",
    "        height=\"600\"\n",
    "        allowfullscreen>\n",
    "</iframe>"
   ]
  }
 ],
 "metadata": {
  "kernelspec": {
   "display_name": "Python 3 (ipykernel)",
   "language": "python",
   "name": "python3"
  },
  "language_info": {
   "codemirror_mode": {
    "name": "ipython",
    "version": 3
   },
   "file_extension": ".py",
   "mimetype": "text/x-python",
   "name": "python",
   "nbconvert_exporter": "python",
   "pygments_lexer": "ipython3",
   "version": "3.12.7"
  }
 },
 "nbformat": 4,
 "nbformat_minor": 5
}
