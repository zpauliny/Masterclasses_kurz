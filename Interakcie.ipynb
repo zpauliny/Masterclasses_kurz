{
 "cells": [
  {
   "attachments": {},
   "cell_type": "markdown",
   "id": "e2d1d571-1f46-4bb1-b5d0-2f8f7e556063",
   "metadata": {},
   "source": [
    "<div style=\"text-align: justify; font-family: Papyrus; font-size: 1.2em;\">\n",
    "\n",
    "# Interakcie\n",
    "\n",
    "Interakcia medzi časticami je ich vzájomné pôsobenie. Niekedy je táto interakcia príťažlivá inokedy odpudivá a vždy je sprostredkovaná nejakým prenášačom interakcie. Pre elektromagnetickú interakciu ho aj poznáte - je to častica svetla **fotón**. Interakciu prostredníctvom takéhoto prenášača si možno predstaviť tak, že si ho častice vymieňajú ako loptu či bumerang, ako je znázornené na týchto obrázkoch:\n",
    "\n",
    "</div>\n",
    "\n",
    "<div style=\"text-align: center;\">\n",
    "    <img src=\"https://i.postimg.cc/ZnTZD5Cn/1723914-r-Id16.jpg\" alt=\"Popis obrázka\" style=\"width: 50%;\"/>\n",
    "</div>\n",
    "\n",
    "<div style=\"text-align: center;\">\n",
    "    <img src=\"https://i.postimg.cc/4N0kp5bm/1723914-r-Id17.jpg\" alt=\"Popis obrázka\" style=\"width: 50%;\"/>\n",
    "</div>"
   ]
  },
  {
   "cell_type": "markdown",
   "id": "38da25d9-2056-43b1-9548-a10a61c91aea",
   "metadata": {},
   "source": [
    "<div style=\"text-align: justify; font-family: Papyrus; font-size: 1.2em;\">\n",
    "    \n",
    "V štandardnom modeli existujú štyri základné interakcie: **silná interakcia, elektromagnetická interakcia, slabá interakcia** a **gravitačná interakcia**. Gravitačná interakcia ale medzi časticami nehrá rolu, pretože je oproti ostatným veľmi slabá (elementárne častice majú malé hmotnosti). Preto si podrobnejšie opíšeme len zvyšné tri interakcie.\n",
    "\n",
    "</div>\n",
    "\n",
    "<div style=\"text-align: center;\">\n",
    "    <img src=\"https://i.postimg.cc/pVjQZPh1/four-forces-in-nature-podrobn.jpg\" alt=\"Popis obrázka\" style=\"width: 50%;\"/>\n",
    "</div>\n"
   ]
  },
  {
   "cell_type": "markdown",
   "id": "27b1538f-20e4-4bbe-bc57-cae37e7aefac",
   "metadata": {},
   "source": [
    "<div style=\"text-align: justify; font-family: Papyrus; font-size: 1.2em;\">\n",
    "\n",
    "## **1. Elektromagnetická interakcia**  \n",
    "\n",
    "Sprostredkúva interakcie medzi elektricky nabitými časticami. Prenášačom je **fotón**. Je zodpovedná za elektrické a magnetické javy, napríklad odpudzovanie a priťahovanie elektricky nabitých častíc ako aj pôsobenie elektrického a magnetického poľa na nabité častice. Má neobmedzený dosah, takže v makrosvete hrá z troch elementárnych interakcií navýznamnejšiu rolu. Ale v mikrosvete častíc je slabšia než silná interakcia.\n",
    "</div>"
   ]
  },
  {
   "cell_type": "markdown",
   "id": "7f820aaa-7c4e-4f7e-8d99-6e3d678ae29a",
   "metadata": {},
   "source": [
    "<img src=\"https://i.postimg.cc/7LGWw8pV/Electromagnetic-Interaction.webp\" width=\"500\"/> <img src=\"https://i.postimg.cc/c1XM9kz4/e-in-E.png\" width=\"400\"/>"
   ]
  },
  {
   "cell_type": "markdown",
   "id": "4c7edebf-67cb-4830-b90d-77cc8ccbf022",
   "metadata": {},
   "source": [
    "<div style=\"text-align: justify; font-family: Papyrus; font-size: 1.2em;\">\n",
    "\n",
    "## **2. Silná interakcia**  \n",
    "\n",
    "Je zodpovedná za viazanie kvarkov do protónov a neutrónov, a tiež za držanie týchto nukleónov v jadre atómu. Silnú interakciu z elementárnych častíc pociťujú len kvarky, pretože tie sú nosičmi farebného náboja. **Farebný náboj** funguje v silnej interakcii podobne ako elektrický náboj v elektromagnetickej. Lenže farebné náboje (takto ich len nazývame, nejde o skutočné farby) sú tri: červený, zelený a modrý náboj. Takisto existujú antifarebné náboje, ktoré nesú antikvarky. Prenášačmi silnej interakcie sú **gluóny**, ktoré sú dvojfarebné a interakciu sprostredkúvajú zmenou farby kvarku. \n",
    "\n",
    "V prírode sa vyskytujú len **biele častice**. Na obrázku nižšie je ukázané, ako bielu farbu dosiahneme zložením farebných kvarkov. Baryóny poskladáme z troch kvarkov: červeného, modrého a zeleného. Antibaryóny sú potom poskladané z troch antifarebných antikvarkov. A mezón zložíme napr. z červeného kvarku a antičerveného antikvarku. \n",
    "\n",
    "</div>"
   ]
  },
  {
   "cell_type": "markdown",
   "id": "5ceb35ab-ee10-467b-93ed-95d34aea0954",
   "metadata": {},
   "source": [
    "<div style=\"text-align: center;\">\n",
    "    <img src=\"https://i.postimg.cc/76tmzKrJ/farba.png\" alt=\"Popis obrázka\" style=\"width: 40%;\"/>\n",
    "</div>"
   ]
  },
  {
   "cell_type": "markdown",
   "id": "682576a2-a213-4ad1-92a4-833aecab25f0",
   "metadata": {},
   "source": [
    "<div style=\"text-align: justify; font-family: Papyrus; font-size: 1.2em;\">\n",
    "\n",
    "Silná interakcia je najintenzívnejšia zo všetkých troch interakcií mikrosveta, ale pôsobí len na veľmi krátkych vzdialenostiach (veľkosť atómového jadra, ~10⁻¹⁵ m). Narastá so vzdialenosťou medzi kvarkami ako keď naťahujeme pružinu – čím viac ju natiahneme, tým väčšia sila ťahá kvarky späť.\n",
    "\n",
    "</div>"
   ]
  },
  {
   "cell_type": "markdown",
   "id": "f4f72e1d-c0a7-4ec1-981f-8e4945565cd2",
   "metadata": {},
   "source": [
    "<div style=\"text-align: justify; font-family: Papyrus; font-size: 1.2em;\">\n",
    "\n",
    "## **3. Slabá interakcia**  \n",
    "\n",
    "Pôsobí na všetky častice Štandarného modelu - všetky teda majú slabý náboj, ale nemáme pre neho žiadne zvláštne označenie ako farebný náboj v silnej interakcii. Prenášačmi sú **W⁺, W⁻ a Z⁰ bozóny**. Oproti ostatným prenášačom (gluónom a fotónom), ktoré sú nehmotné, sú W⁺, W⁻ a Z⁰ bozóny veľmi ťažké častice. To aj aj dôvodom, prečo sú rôzne procesy skôr sprostredkované silnou a elektromagnetickou interakciou. Slabá interakcia je teda slabšia ako silná a elektromagnetická interakcia a pôsobí na veľmi krátkych vzdialenostiach (~10⁻¹⁸ m). Dôležitá je však pre procesy prebiehajúce vo vnútri Slnka a pri vzniku neutrín ako aj pri určitých typoch rádioaktívneho rozpadu (beta rozpad).\n",
    "\n",
    "</div>"
   ]
  },
  {
   "cell_type": "markdown",
   "id": "cfad8466-8a0a-49b9-894a-191e60a67c61",
   "metadata": {},
   "source": [
    "<div style=\"text-align: center;\">\n",
    "    <img src=\"https://i.postimg.cc/s2qJDvY5/we.webp\" alt=\"Popis obrázka\" style=\"width: 60%;\"/>\n",
    "</div>"
   ]
  },
  {
   "cell_type": "markdown",
   "id": "d10b2397-a098-4460-ae5d-48c3ea79feca",
   "metadata": {},
   "source": [
    "<div style=\"text-align: justify; font-family: Papyrus; font-size: 1.2em;\">\n",
    "\n",
    "## **Higgsovo pole**\n",
    "\n",
    "Higgsovo pole vysvetľuje, prečo majú niektoré elementárne častice nulovú hmotnosť (fotón, gluón), kým iné sú veľmi ťažké (*Z*, *W* bozóny). V celom vesmíre sa rozprestiera toto neviditeľné Higgsovo pole, s ktorým častice interagujú. Toto pole pôsobí rôzne na rozdielne častice - na ľahké málo, na ťažké viac. Vieme si to predstaviť ako nadobudnutie zotrvačnosti - ilustrujeme to komiksom nižšie. Ak je miestnosť plná fyzikov a vojde do nej slávny fyzik, chcú sa s ním všetci rozprávať - zoskupia sa teda okolo neho do väčšieho objektu a takto sa im ťažšie pohybuje v miestnosti - majú spolu vyššiu hmotnosť (obrázky *a*, *b*). **Higgsov bozón** je časticou priradenou k tomuto poľu. Vieme si to predstaviť ako spontánne vytvorenie skupinky, ktorá napríklad diskutuje o nejakej klebete a tiež sa jej ťažšie prechádza miestnosťou, ako to vidíme na obrázkoch *c* a *d*.\n",
    "\n",
    "</div>"
   ]
  },
  {
   "cell_type": "markdown",
   "id": "0030331a-f04c-4d59-838c-96a4a9024367",
   "metadata": {},
   "source": [
    "<div style=\"text-align: center;\">\n",
    "    <img src=\"https://i.postimg.cc/prV8W52z/higgs-field.jpg\" alt=\"Popis obrázka\" style=\"width: 60%;\"/>\n",
    "</div>"
   ]
  },
  {
   "cell_type": "markdown",
   "id": "e8bd914c-a2b1-4673-9f8b-8eb68f47c971",
   "metadata": {},
   "source": [
    "<div style=\"text-align: justify; font-family: Papyrus; font-size: 1.2em;\">\n",
    "\n",
    "Higgsov bozón je poslednou objavenou časticou Štandardného modelu, potvrdili ho dva experimenty na LHC v roku 2012. Za jeho predpoveď bola potom Françoisovi Englertovi a Peterovi Higgsovi udelená Nobelova cena v roku 2013.\n",
    "\n",
    "</div>"
   ]
  }
 ],
 "metadata": {
  "kernelspec": {
   "display_name": "Python 3 (ipykernel)",
   "language": "python",
   "name": "python3"
  },
  "language_info": {
   "codemirror_mode": {
    "name": "ipython",
    "version": 3
   },
   "file_extension": ".py",
   "mimetype": "text/x-python",
   "name": "python",
   "nbconvert_exporter": "python",
   "pygments_lexer": "ipython3",
   "version": "3.13.1"
  }
 },
 "nbformat": 4,
 "nbformat_minor": 5
}
