{
 "cells": [
  {
   "cell_type": "markdown",
   "id": "1d90664b-26ba-484f-8794-852f2aac3617",
   "metadata": {},
   "source": [
    "<div style=\"text-align: justify; font-family: Papyrus; font-size: 1.2em;\">\n",
    "\n",
    "# **Urýchľovače**\n",
    "\n",
    "Aby sme mohli skúmať a pochopiť fyziku elemtárnych častíc, častice zrážame. Na to potrebujeme vhodný zdroj častíc, ktorým môžu byť napríklad častice pochádzajúce z rádioaktívneho rozpadu alebo kozmické žiarenie. Avšak pre rádioaktívne žiarenie platí, že produkuje častice s pevne danou energiou. Kozmické žiarenie je zaujímavým zdrojom, ale nemáme ho pod kontrolou. Pre presné experimenty sú preto nevyhnutné urýchľovače častíc, ktoré umožňujú presne nastaviť kinetickú energiu častíc. Vďaka tomu máme presné informácie o časticiach pred zrážkou a môžeme lepšie skúmať stav po zrážke.\n",
    "\n",
    "\n",
    "</div>"
   ]
  },
  {
   "cell_type": "markdown",
   "id": "0b31f04e-9ccd-4d8f-8d1b-7185a1ffe82d",
   "metadata": {},
   "source": [
    "<div style=\"text-align: justify; font-family: Papyrus; font-size: 1.2em;\">\n",
    "\n",
    "## **Prečo častice urýchľovať**\n",
    "\n",
    "Vo svete elementárnych častíc je pre nás veľmmi dôležitá pokojová energia častíc. Je to zložka energia, ktorá je spojená s hmotnosťou častice. V makrosvete pokojová emergia nehrá rolu, pretože sa nemení, tam sa totiž hmotnosť zachováva. Elementárne častice sa však riadia špeciálnou teóriou relativity a energia sa môže prerozdeliť medzi pokojovú a kinetickú zložku. Pokojová energia je daná známym vzorcom:\n",
    "\n",
    "</div>"
   ]
  },
  {
   "cell_type": "markdown",
   "id": "f573455a-9a00-4e73-aaf8-1a2808ccb190",
   "metadata": {},
   "source": [
    "<div style=\"text-align: center;\">\n",
    "  <img src=\"https://i.postimg.cc/6qfC3qyx/emc2-1024x666.webp\" \n",
    "       style=\"width: 40%\">\n",
    "</div>"
   ]
  },
  {
   "cell_type": "markdown",
   "id": "bd34b954-a3af-4163-8cf0-72d9ddb66901",
   "metadata": {},
   "source": [
    "<div style=\"text-align: justify; font-family: Papyrus; font-size: 1.2em;\">\n",
    "\n",
    "Vidíme teda, že čím viac máme k dispozícii energie, tým ťažšie častice vieme vytvoriť. To je práve dôvod, prečo častice urýchľujeme na vysoké kinetické energie. Keď potom zrazíme takto urýchlené častice, ich kinetická energia sa uvoľní a použije na tvorbu ťažkých častíc. Čím sú častice pred zrážkou rychlejšie, tým viac energie obsahujú, a tým ťažšie fragmenty môžu pri zrážke vzniknúť. \n",
    "\n",
    "</div>"
   ]
  },
  {
   "cell_type": "markdown",
   "id": "b3d51e16-7390-4443-8edc-98a0cf168bc7",
   "metadata": {},
   "source": [
    "<div style=\"text-align: justify; font-family: Papyrus; font-size: 1.2em;\">\n",
    "\n",
    "## **Princíp fungovania**\n",
    "\n",
    "Častice zo zdroja (napríklad fľaša vodíkového plynu: zdroj protónov) sú urýchľované pomocou elektrického poľa. Toto samozrejme platí iba pre **nabité častice** (napr. elektróny, protóny). Neutrálne častice nie je možné urýchľovať. Keď sa nabitá častica dostane do elektrického poľa, začne sa pohybovať rovnakým smerom ako sila pôsobenia daného poľa, pričom neustále zrýchľuje – podobne ako predmet padajúci voľným pádom. Potom pomocou magnetické poľa je pohyb častíc usmerní do požadovaného smeru. Urýchlené častice tvoria úzky zväzok, ktorý je sústredený magnetickými poliami, aby sa nerozptyľoval. Na konci svojej dráhy častice narážajú do terčíka alebo do iných častíc, čím sa uvoľňuje obrovská energia. \n",
    "\n",
    "Na obrázku nižšie je zobrazené, ako je usporiadaný kruhový urýchľovač: častice obiehajú dookola, čo zabezpečujú magnety po obvode celej kružnice (bengind magnets). Druhý typ magnetu sústreďuje zväzok (focusing magnets). Samotné urýchlenie prebieha len na jednom malom úseku kružnice (accelerating cavity) pri každom obehu kružnice. \n",
    "\n",
    "</div>"
   ]
  },
  {
   "cell_type": "markdown",
   "id": "dd8f87a8-f6f3-41cd-8616-34f04560334a",
   "metadata": {},
   "source": [
    "<div style=\"text-align: center;\">\n",
    "  <img src=\"https://i.postimg.cc/vH5FX6Nt/circular-accelerator.gif\" \n",
    "       style=\"width: 40%; margin-right: 5%;\">\n",
    "</div>"
   ]
  },
  {
   "cell_type": "markdown",
   "id": "fdeec20b-4c25-4203-a04d-e10f537acc85",
   "metadata": {},
   "source": [
    "<div style=\"text-align: justify; font-family: Papyrus; font-size: 1.2em;\">\n",
    "\n",
    "Na urýchlenie v urýchľovacej jednotke je použité vysokofrekvenčné elektrické pole, ktoré časticu urýchli vo viacerých fázach. Ako to približne vyzerá si pozrite tu nižšie: je tu zobrazený lineárny (teda rovný, nie kruhový) urýchľovač, urýchľovacia komora na kruhovom urýchľovači však funguje podobne.\n",
    "\n",
    "</div>"
   ]
  },
  {
   "cell_type": "markdown",
   "id": "93daf91b-ecd3-4621-a834-fd330fb59f10",
   "metadata": {},
   "source": [
    "<div style=\"text-align: center;\">\n",
    "  <img src=\"https://i.postimg.cc/vBCktQ7K/Linear-accelerator-animation-16frames-1-6sec.gif\" \n",
    "       style=\"width: 50%; margin-right: 5%;\">\n",
    "</div>"
   ]
  },
  {
   "cell_type": "markdown",
   "id": "fea4e768-5d97-45b4-9967-bd65e70e5086",
   "metadata": {},
   "source": [
    "<div style=\"text-align: justify; font-family: Papyrus; font-size: 1.2em;\">\n",
    "    \n",
    "### **LHC** \n",
    "\n",
    "**Veľký hadrónový urýchľovač** (LHC = Large Hadron Collider) je najväčší a najvýkonnejší urýchľovač častíc na svete. Jeho hlavná časť je **27 kilometrov dlhý tunel**. Výstavba podzemného tunela bola výhodnejšia z viacerých dôvodov, jedným z nich je fakt, že zemská kôra poskytuje prirodzenú ochranu pred žiarením. Tunel sa nachádza **50 až 175 metrov pod zemou**. Jeho úlohou je hlbšie preniknúť do mikrosveta a odhaľovať stále menšie častice a nové fyzikálne javy.\n",
    "\n",
    "</div>"
   ]
  },
  {
   "cell_type": "markdown",
   "id": "f74c5ede-6b40-41e4-8309-151d6982d7e1",
   "metadata": {},
   "source": [
    "<div style=\"text-align: center;\">\n",
    "  <img src=\"https://i.postimg.cc/kGWCVj6L/lhc-map.png\" \n",
    "       style=\"width: 50%; margin-right: 5%;\">\n",
    "</div>"
   ]
  },
  {
   "cell_type": "markdown",
   "id": "2738e227-ab9f-4ad8-9aeb-a245a874cf5a",
   "metadata": {},
   "source": [
    "<div style=\"text-align: justify; font-family: Papyrus; font-size: 1.2em;\">\n",
    "    \n",
    "### **Viac o LHC**  \n",
    "Častice sa pohybujú vo **vákuovej trubici**, pričom ich dráhu a rýchlosť riadia **elektromagnetické systémy**. Urýchľovanie prebieha postupne, časticiam najskôr v každom obehu zvyšujeme kinetickú energiu a následne sa ich energia stabilizuje na konštantnej hodnote.   \n",
    "\n",
    "- **Prečo vákuum?** Aby sa zabránilo nežiaducim zrážkam medzi časticami a molekulami vzduchu.\n",
    "- **Prečo toľko magnetov?** V urýchľovači LHC sa nachádza takmer **9600 magnetov**, ktoré riadia dráhu častíc. Sú **supravodivé** a chladené kvapalným héliom na extrémne nízku teplotu. Najväčšie magnety sú **dipóly**, dlhé 15 metrov a vážiace približne 35 ton.  \n",
    "- **Prečo taká zima?** LHC využíva jeden z najvýkonnejších **kryogénnych systémov** na svete, čím sa radí medzi **najchladnejšie miesta vo vesmíre**. Udržiavanie supravodivosti magnetov vyžaduje teplotu **-271,3 °C**, pričom celý proces ochladzovania trvá niekoľko týždňov.  \n",
    "- **Dutinové rezonátory**. Tieto komponenty zabezpečujú, aby **protóny v zväzku zostávali tesne pohromade**, čím sa zvyšuje pravdepodobnosť ich zrážky. Okrem toho im dodávajú energiu potrebnú na urýchlenie.\n",
    "- **Akú energiu majú zrážky v LHC?** Každý protón v LHC dosahuje energiu **7 TeV**. Pri zrážke dvoch protónov sa ich energie spoja, čím vznikajú kolízie s energiou **14 TeV**. Pri zrážkach iónov olova, ktoré obsahujú viac protónov, je energia ešte vyššia – dve olovené jadrá môžu dosiahnuť oveľa vyššiu energiu.\n",
    "- **Pohyb častíc v LHC**. Protóny sa pohybujú vo dvoch protiľahlých zväzkoch, ktoré obiehajú v opačných smeroch. V špecifických bodoch (miesta, kde sú inštalované štyri veľké experimenty: ATLAS, CMS, ALICE a LHCb) sa zväzky križujú a protóny sa zrážajú.\n",
    "\n",
    "</div>"
   ]
  },
  {
   "cell_type": "markdown",
   "id": "0968cc09-bb2f-47eb-8d1f-56aac1dd0555",
   "metadata": {},
   "source": [
    "<div style=\"text-align: center;\">\n",
    "  <img src=\"https://i.postimg.cc/rpzVwtrx/tunnel-lhc.jpg\" \n",
    "       style=\"width: 70%; margin-right: 5%;\">\n",
    "</div>"
   ]
  },
  {
   "cell_type": "markdown",
   "id": "6e553584-6e28-431c-a78a-3ec6d23424d3",
   "metadata": {},
   "source": [
    "<div style=\"text-align: justify; font-family: Papyrus; font-size: 1.2em;\">\n",
    "\n",
    "# **Čo nám pomáha pochopiť**  \n",
    "\n",
    "**Štandardný model častíc a interakcií** opisuje všetko, čo dnes vieme o elementárnych časticiach a ich silách. Hoci tento model bol úspešne overený mnohými experimentmi, stále existujú nezodpovedané otázky. **Urýchľovač LHC** pomáha hľadať odpovede na niektoré z nich.  \n",
    "\n",
    "Jednou z nevyriešených otázok je pôvod **hmotnosti častíc**. Prečo sú niektoré častice ťažké, zatiaľ čo iné sú takmer bez hmotnosti? **Higgsov mechanizmus** naznačuje, že celý vesmír je vyplnený tzv. **Higgsovým poľom**, ktoré dodáva časticiam hmotnosť – čím viac s ním interagujú, tým sú ťažšie. Súčasťou tohto mechanizmu je **Higgsov bozón**, ktorý bol teoreticky predpovedaný a experimentálne potvrdený v roku **2012** v experimentoch **ATLAS a CMS** na LHC. \n",
    "\n",
    "Ďaľšou otázkou je ako by sme mohli popísať a zjednotiť teóriu, ktorá by zahrňovala aj **gravitáciu**. Jedným z možných riešení je **teória supersymetrie**, ktorá predpovedá existenciu **hmotnejších partnerov** pre známe častice. Ak je táto teória správna, najľahšie supersymetrické častice by mohli byť detekovateľné v **LHC**.  \n",
    "\n",
    "Pozorovania z **kozmológie a astrofyziky** ukazujú, že **viditeľná hmota tvorí iba 4 %** celkovej hmoty a energie vesmíru. Zvyšok pripadá na **temnú hmotu (23 %)** a **temnú energiu (73 %)**. **Jednou z hypotéz je, že temná hmota pozostáva zo supersymetrických častíc**, no zatiaľ nebola priamo objavená. **LHC hrá kľúčovú úlohu pri hľadaní týchto častíc** a pomáha odhaľovať tajomstvá neviditeľnej hmoty.  \n",
    "\n",
    "</div>"
   ]
  },
  {
   "cell_type": "markdown",
   "id": "ad7fcf91-fd51-4bfd-908f-15d6f0e216a7",
   "metadata": {},
   "source": [
    "<div style=\"text-align: center;\">\n",
    "  <img src=\"https://i.postimg.cc/NjFnS8Th/higgs-boson.jpg\"  \n",
    "       style=\"width: 60%; margin-right: 5%;\">\n",
    "</div>"
   ]
  }
 ],
 "metadata": {
  "kernelspec": {
   "display_name": "Python 3 (ipykernel)",
   "language": "python",
   "name": "python3"
  },
  "language_info": {
   "codemirror_mode": {
    "name": "ipython",
    "version": 3
   },
   "file_extension": ".py",
   "mimetype": "text/x-python",
   "name": "python",
   "nbconvert_exporter": "python",
   "pygments_lexer": "ipython3",
   "version": "3.13.1"
  }
 },
 "nbformat": 4,
 "nbformat_minor": 5
}
