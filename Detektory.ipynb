{
 "cells": [
  {
   "cell_type": "markdown",
   "id": "0973132e-e57e-4dc8-9831-8a087bc2a404",
   "metadata": {},
   "source": [
    "<div style=\"text-align: justify; font-family: Papyrus; font-size: 1.2em;\">\n",
    "\n",
    "# **Ako meriame častice?**\n",
    "\n",
    "Objekty mikrosveta pozorujeme najčastejšie optickým, elektrónovým alebo iným mikroskopom, ktorý dokáže zväčšiť objekt. Môžeme „vidieť“ (nie voľným okom) vírusy, kryštalické štruktúry látok či dokonca veľké molekuly. Avšak ani mikroskop už nestačí na pozorovanie častíc, ako sú protóny, neutróny či elektróny. Tie sú priveľmi malé a často sa pohybujú rýchlosťou blízkou rýchlosti svetla. V takom prípade prichádzajú na rad špeciálne urýchľovače a detektory, ktoré nám pomáhajú zistiť, aké častice pozorujeme, či akú majú energiu. \n",
    "\n",
    "Obrázky nižšie sú z elektrónového mikroskopu a nie sú to elementárne častice, ale školská krieda naľavo a mozgové bunky ľudskej nervovej sústavy napravo. \n",
    "\n",
    "</div>"
   ]
  },
  {
   "cell_type": "markdown",
   "id": "b3c032eb-7bc7-48e6-9e5d-cec327709f5c",
   "metadata": {},
   "source": [
    "<div style=\"text-align: center;\">\n",
    "  <img src=\"https://i.postimg.cc/c4hpNHjs/kreida-pod-mikroskopom.webp\" \n",
    "       style=\"width: 30%; margin-right: 5%;\">\n",
    "  <img src=\"https://i.postimg.cc/PJzBJr5Q/Human-neural-rosette-primordial-brain-cells.webp\" \n",
    "       style=\"width: 22.5%;\">\n",
    "</div>"
   ]
  },
  {
   "cell_type": "markdown",
   "id": "d745e785-2c6d-41e9-be2d-fa4004983610",
   "metadata": {},
   "source": [
    "<div style=\"text-align: justify; font-family: Papyrus; font-size: 1.2em;\">\n",
    "\n",
    "## **Princíp pozorovania nabitých častíc**\n",
    "\n",
    "Keď nabitá častica prechádza prostredím, počas svojho pohybu interaguje s atómami prostredia. Atóm je elektricky neutrálny, ale skladá sa z elektricky nabitých častí (elektrónov a protónov v jadre). Nabitá častica teda neinteraguje s atómom ako s celkom, ale s jeho jednotlivými nabitými časťami.\n",
    "\n",
    "Ak sa nabitá častica dostane do dostatočnej blízkosti atómu, svojou elektrickou silou môže z atómu **\"vytrhnúť\"** elektrón. Tento proces nazývame ionizácia. V dôsledku nej sa mení pôvodná štruktúra látky a vznikajú voľné elektróny a ióny. Iónom je atóm, ktorému jeden alebo aj viac elektrónov chýba (alebo je ich nadbytok), a tým pádom už nesie nenulový elektrický náboj. Tento proces je základným princípom fungovania mnohých detektorov, ktoré merajú elektrický prúd výsledných nabitých častíc. \n",
    "\n",
    "</div>"
   ]
  },
  {
   "cell_type": "markdown",
   "id": "6ef824b1-4445-4df2-89b3-8da06779065a",
   "metadata": {},
   "source": [
    "<div style=\"text-align: center;\">\n",
    "  <img src=\"https://i.postimg.cc/G3XZc87b/ionization-detector.png\" \n",
    "       style=\"width: 40%; margin-right: 5%;\">\n",
    "</div>"
   ]
  },
  {
   "cell_type": "markdown",
   "id": "c0549f65-df4a-4b51-ba46-489e30b94c09",
   "metadata": {},
   "source": [
    "<div style=\"text-align: justify; font-family: Papyrus; font-size: 1.2em;\">\n",
    "\n",
    "## **Princíp pozorovanie neutrálnych častíc**\n",
    "\n",
    "Dráhu neutrálnych častíc už nemožno priamo pozorovať ako pri nabitých časticiach, ich prítomnosť dokážeme zaregistrovať len nepriamo, najčastejšie dvoma spôsobmi:\n",
    "\n",
    "- **Nestabilná neutrálna častica** sa rozpadne na nabité produkty, ktoré už ionizujú prostredie a tým zanechávajú detegovateľné stopy.\n",
    "- **Stabilná neutrálna častica** sa vplyvom nejakého procesu zmení na jednu alebo viac nabitých častíc. Toto je prípad detekcie fotónov vyšších energií, ktoré sa v silnom elektrickom poli v blízkosti atómového jadra môžu premeniť na pár elektrón–pozitrón. Tieto nabité častice následne vytvoria stopy, ktoré už vieme pozorovať.\n",
    "\n",
    "</div>"
   ]
  },
  {
   "cell_type": "markdown",
   "id": "6a358c03-7865-4a0e-97fd-31a634ea567a",
   "metadata": {},
   "source": [
    "<div style=\"text-align: justify; font-family: Papyrus; font-size: 1.2em;\">\n",
    "\n",
    "## **Moderné detektorové systémy**\n",
    "\n",
    "Vo vysokoenergetických zrážkach ako sú tie na urýchľovači LHC vzniká veľké množstvo rôznych častíc, ktoré má detektor *zbadať* a zmerať ich vlastnosti ako náboj a energiu. Preto sú zložené z mnohých častí - subdetektorov, ktoré sú navrstvené okolo bodu zrážky v cibuľovitej štruktúre. Typickým príkladom je experiment **ATLAS**, ktorý sa skladá z dráhového detektora, kalorimetrov a miónových detektorov.\n",
    "\n",
    "</div>"
   ]
  },
  {
   "cell_type": "markdown",
   "id": "2f926acf-8d86-47ce-b03c-ea101c910b9e",
   "metadata": {},
   "source": [
    "<div style=\"text-align: center;\">\n",
    "    <img src=\"https://i.postimg.cc/k4J4tb6g/ATLAS.jpg\" alt=\"Popis obrázka\" style=\"width: 50%;\"/>\n",
    "</div>"
   ]
  },
  {
   "cell_type": "markdown",
   "id": "aad7adff-77d8-4f5e-8f37-c6f8909bf3dd",
   "metadata": {},
   "source": [
    "<div style=\"text-align: justify; font-family: Papyrus; font-size: 1.2em;\">\n",
    "\n",
    "\n",
    "### **1. Dráhové detektory**\n",
    "\n",
    "Dráhové detektory sa nachádzajú najbližšie k miestu interakcie a umožňujú vizualizáciu dráh častíc. Dokážu zaznamenať iba **nabité častice**. Konštrukcia je navrhnutá tak, aby čo najmenej ovplyvňovala prechádzajúce častice – tie pokračujú v pohybe takmer nezmenenou rýchlosťou a smerom. V tomto detektore meriame hybnosť a náboj častice pomocou jej zakrivenia v magnetickom poli okolo detektora.\n",
    "\n",
    "</div>"
   ]
  },
  {
   "attachments": {},
   "cell_type": "markdown",
   "id": "b8b4b94a-c024-4cc9-8c30-9f2382a5402f",
   "metadata": {},
   "source": [
    "<div style=\"text-align: center;\">\n",
    "    <img src=\"https://i.postimg.cc/dttxStdZ/pixel.png\" alt=\"Popis obrázka\" style=\"width: 40%;\"/>\n",
    "</div>"
   ]
  },
  {
   "cell_type": "markdown",
   "id": "854df631-2e2a-4947-8b52-4f1b7cf43314",
   "metadata": {},
   "source": [
    "<div style=\"text-align: justify; font-family: Papyrus; font-size: 1.2em;\">\n",
    "\n",
    "### **2.Kalorimetre**\n",
    "\n",
    "Kalorimetre sú špeciálne detektory určené na meranie energie častíc, ktoré ju strácajú pri zrážkach s atómami prostredia pozdĺž svojej dráhy. Tieto zariadenia dokážu registrovať energiu tak nabitých, ako aj neutrálnych častíc. Sú zložené z vrstiev ťažkých materiálov, ktoré časticu brzdia, oddelených vrstvami detektora. Keď častica prechádza cez tieto vrstvy, postupne sa spomaľuje, stráca energiu a ionizuje prostredie. Produkty ionizácie sú potom zachytené v detektorových vrstvách, z ktorých zistíme koľko energie daná častica stratila. Takto sa teda tvorí *lavína častíc*, postupne zaznamenaná v detektore. Kalorimeter je navrhnutý tak, aby zabezpečil úplné zastavenie častice a úplnú absorpciu jej energie.\n",
    "\n",
    "Pretože častice, ktoré vznikli v zrážke sú veľmi odlišné, používame kalorimetre na rôznych princípoch: aby sme zachytili elektróny či fotóny, používajú sa **elektromagnetické kalorimetre** (vnútorná vrstva). **Hadrónové kalorimetre** zas slúžia na meranie energie ťažších častíc, ako sú protóny či neutróny. Tvoria vonkajšiu vrstvu kalorimetra.\n",
    "\n",
    "</div>"
   ]
  },
  {
   "cell_type": "markdown",
   "id": "813053a0-57a7-4501-a51d-0e9c6b1a629f",
   "metadata": {},
   "source": [
    "<div style=\"text-align: center;\">\n",
    "  <img src=\"https://i.postimg.cc/mkkxYVCC/kalorimeter.jpg\" \n",
    "       style=\"width: 40%; margin-right: 5%;\">\n",
    "   <img src=\"https://i.postimg.cc/fRQ0RkKJ/atlas-calo-high.jpg\" \n",
    "       style=\"width: 40%; margin-right: 5%;\">\n",
    "</div>"
   ]
  },
  {
   "cell_type": "markdown",
   "id": "b62e6965-c592-4239-9a65-fcc4cd488ee2",
   "metadata": {},
   "source": [
    "<div style=\"text-align: justify; font-family: Papyrus; font-size: 1.2em;\">\n",
    "\n",
    "### **3. Miónové detektory**\n",
    "\n",
    "Mióny a neutrína dokážu prechádzať dráhovými detektormi aj kalorimetrami bez významnej zmeny. **Mióny** patria do rodiny leptónov a sú približne **200-krát ťažšie ako elektrón**, čo im umožňuje prenikať cez hrubé vrstvy materiálu bez výrazného spomalenia alebo absorpcie. Miónové detektory sú posledná vrstva detekčného systému v experimentoch, pretože dokážu selektívne identifikovať mióny. Všetky ostatné častice (s výnimkou neutrín) by už v tejto vrtsve detektora mali byť absorbované. Sú to v podstate dráhové detektory, určené špeciálne na meranie dráhy miónov.\n",
    "\n",
    "</div>"
   ]
  },
  {
   "cell_type": "markdown",
   "id": "27ff22ae-03e7-4f48-bcde-d5550218e68a",
   "metadata": {},
   "source": [
    "<div style=\"text-align: center;\">\n",
    "    <img src=\"https://i.postimg.cc/rmvM8Rkm/muon-detector.jpg\" alt=\"Popis obrázka\" style=\"width: 25%;\"/>\n",
    "</div>"
   ]
  },
  {
   "cell_type": "markdown",
   "id": "fd5ad433-edd3-4343-8994-de849e67bd2b",
   "metadata": {},
   "source": [
    "<div style=\"text-align: justify; font-family: Papyrus; font-size: 1.2em;\">\n",
    "\n",
    "**Neutrína**, na rozdiel od miónov, neinteragujú so svojim okolím takmer vôbec. Prechádzajú cez materiál a detektory bez stopy, pretože interagujú len slabou jadrovou silou. Avšak ich prítomnosť je možné **nepriamo odhaliť** pomocou zákonov zachovania energie a hybnosti. Ak sa v detektore zaregistruje menšia energia alebo hybnosť, ako sa očakáva na základe energie zrážky, môžeme predpokladať, že chýbajúca energia bola odnesená neutrínom, ktoré detektor nezachytil.\n",
    "\n",
    "</div>"
   ]
  },
  {
   "cell_type": "markdown",
   "id": "bc20af0b-7037-4801-8279-0b60a316b080",
   "metadata": {},
   "source": [
    "<div style=\"text-align: justify; font-family: Papyrus; font-size: 1.2em;\">\n",
    "\n",
    "Pozrite, takto prechádzajú jednotlivé častice detektorom ATLAS:\n",
    "\n",
    "</div>"
   ]
  },
  {
   "cell_type": "markdown",
   "id": "1a1ead55-9e23-4216-b2f2-ac768f743bf3",
   "metadata": {},
   "source": [
    "<div style=\"text-align: center;\">\n",
    "    <img src=\"https://i.postimg.cc/251561qq/stopy-v-detektoroch.png\" alt=\"Popis obrázka\" style=\"width: 50%;\"/>\n",
    "</div>"
   ]
  }
 ],
 "metadata": {
  "kernelspec": {
   "display_name": "Python 3 (ipykernel)",
   "language": "python",
   "name": "python3"
  },
  "language_info": {
   "codemirror_mode": {
    "name": "ipython",
    "version": 3
   },
   "file_extension": ".py",
   "mimetype": "text/x-python",
   "name": "python",
   "nbconvert_exporter": "python",
   "pygments_lexer": "ipython3",
   "version": "3.13.1"
  }
 },
 "nbformat": 4,
 "nbformat_minor": 5
}
